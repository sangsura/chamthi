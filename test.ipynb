{
 "cells": [
  {
   "cell_type": "markdown",
   "metadata": {},
   "source": [
    "Bước # 1: Phát hiện bài kiểm tra trong một hình ảnh.\n",
    "Bước # 2: Áp dụng một phép chuyển đổi phối cảnh để trích xuất hình ảnh mắt chim từ trên xuống của bài kiểm tra.\n",
    "Bước # 3: Trích xuất tập hợp các bong bóng (tức là các lựa chọn câu trả lời có thể có) từ kỳ thi được biến đổi phối cảnh.\n",
    "Bước # 4: Sắp xếp các câu hỏi / bong bóng thành hàng.\n",
    "Bước # 5: Xác định câu trả lời được đánh dấu  cho mỗi hàng.\n",
    "Bước # 6: Tra cứu câu trả lời chính xác trong khóa trả lời  xác định xem có đúng trong lựa chọn hay không.\n",
    "Bước # 7: Lặp lại tất cả các câu hỏi trong bài kiểm tra."
   ]
  },
  {
   "cell_type": "code",
   "execution_count": 1,
   "metadata": {},
   "outputs": [],
   "source": [
    "# các thư viện cần thiết\n",
    "from imutils.perspective import four_point_transform\n",
    "from imutils import contours\n",
    "import numpy as np\n",
    "import argparse\n",
    "import imutils\n",
    "import cv2\n",
    "#Đáp án \n",
    "ANSWER_KEY = {0: 1, 1: 4, 2: 0, 3: 3, 4: 1}"
   ]
  },
  {
   "cell_type": "code",
   "execution_count": 2,
   "metadata": {},
   "outputs": [],
   "source": [
    "# tải ảnh, chuyển ảnh về xám\n",
    "# làm mịn ảnh và phát hiện cạnh trong ảnh\n",
    "image = cv2.imread(\"test.png\")\n",
    "gray = cv2.cvtColor(image, cv2.COLOR_BGR2GRAY)\n",
    "blurred = cv2.GaussianBlur(gray, (5, 5), 0)\n",
    "edged = cv2.Canny(blurred, 75, 200)"
   ]
  },
  {
   "cell_type": "code",
   "execution_count": 22,
   "metadata": {},
   "outputs": [
    {
     "data": {
      "text/plain": [
       "-1"
      ]
     },
     "execution_count": 22,
     "metadata": {},
     "output_type": "execute_result"
    }
   ],
   "source": [
    "cv2.imshow(\"e\",gray)\n",
    "cv2.waitKey(0)"
   ]
  },
  {
   "cell_type": "code",
   "execution_count": 4,
   "metadata": {},
   "outputs": [],
   "source": [
    "image[0:5,0:5]=(0,0,255)\n"
   ]
  },
  {
   "cell_type": "code",
   "execution_count": 5,
   "metadata": {},
   "outputs": [
    {
     "data": {
      "text/plain": [
       "-1"
      ]
     },
     "execution_count": 5,
     "metadata": {},
     "output_type": "execute_result"
    }
   ],
   "source": [
    "cv2.imshow(\"e\",image)\n",
    "cv2.waitKey(0)"
   ]
  },
  {
   "cell_type": "code",
   "execution_count": 6,
   "metadata": {},
   "outputs": [
    {
     "data": {
      "text/plain": [
       "-1"
      ]
     },
     "execution_count": 6,
     "metadata": {},
     "output_type": "execute_result"
    }
   ],
   "source": [
    "cv2.imshow(\"edged\",edged)\n",
    "cv2.waitKey(0)"
   ]
  },
  {
   "cell_type": "code",
   "execution_count": 7,
   "metadata": {},
   "outputs": [],
   "source": [
    "#tìm các đường viền dựa trên bản đồ cạnh\n",
    "cnts = cv2.findContours(edged.copy(), cv2.RETR_EXTERNAL,cv2.CHAIN_APPROX_SIMPLE)\n",
    "cnts = imutils.grab_contours(cnts)\n",
    "#khởi tạo đường bao tương ứng với tài liệu\n",
    "docCnt = None\n",
    "#phải có ít nhất 1 đường viền được tìm thấy\n",
    "if len(cnts) > 0:\n",
    "\t# sắp xếp đường viền theo theo thứ tự giảm dần theo diện tích\n",
    "\tcnts = sorted(cnts, key=cv2.contourArea, reverse=True)\n",
    "\t#chạy vòng lặp qua các đường viền\n",
    "\tfor c in cnts:\n",
    "\t\t#tính chu vi đường viền\n",
    "\t\tperi = cv2.arcLength(c, True)\n",
    "\t\t#trả về 1 tập các điểm (x,y) thể hiện 1 đường bao quanh\n",
    "\t\tapprox = cv2.approxPolyDP(c, 0.02 * peri, True)\n",
    "\t\t# Nếu đường viền có 4 cạnh thì xác định đó là tờ báo\n",
    "\t\tif len(approx) == 4:\n",
    "\t\t\tdocCnt = approx\n",
    "\t\t\tbreak"
   ]
  },
  {
   "cell_type": "code",
   "execution_count": 8,
   "metadata": {},
   "outputs": [
    {
     "name": "stdout",
     "output_type": "stream",
     "text": [
      "[[[131 206]]\n",
      "\n",
      " [[119 617]]\n",
      "\n",
      " [[448 614]]\n",
      "\n",
      " [[430 208]]]\n"
     ]
    }
   ],
   "source": [
    "print(docCnt)"
   ]
  },
  {
   "cell_type": "code",
   "execution_count": 9,
   "metadata": {},
   "outputs": [],
   "source": [
    "#Biến đổi phối cảnh dựa trên 4 điểm để tạo nên ảnh khi được nhìn trực diện \n",
    "paper = four_point_transform(image, docCnt.reshape(4, 2))\n",
    "warped = four_point_transform(gray, docCnt.reshape(4, 2))"
   ]
  },
  {
   "cell_type": "code",
   "execution_count": 10,
   "metadata": {},
   "outputs": [
    {
     "data": {
      "text/plain": [
       "-1"
      ]
     },
     "execution_count": 10,
     "metadata": {},
     "output_type": "execute_result"
    }
   ],
   "source": [
    "cv2.imshow(\"paper\",paper)\n",
    "cv2.imshow(\"warped\",warped)\n",
    "cv2.waitKey(0)"
   ]
  },
  {
   "cell_type": "code",
   "execution_count": 11,
   "metadata": {},
   "outputs": [],
   "source": [
    "#đưa ảnh về dạng nhị phân bằng pp ngưỡng otsu\n",
    "thresh = cv2.threshold(gray, 0, 255,\n",
    "\tcv2.THRESH_BINARY_INV | cv2.THRESH_OTSU)[1]"
   ]
  },
  {
   "cell_type": "code",
   "execution_count": 12,
   "metadata": {},
   "outputs": [
    {
     "data": {
      "text/plain": [
       "-1"
      ]
     },
     "execution_count": 12,
     "metadata": {},
     "output_type": "execute_result"
    }
   ],
   "source": [
    "thresh.shape\n",
    "cv2.imshow(\"a\",thresh)\n",
    "cv2.waitKey(0)"
   ]
  },
  {
   "cell_type": "code",
   "execution_count": 13,
   "metadata": {},
   "outputs": [
    {
     "name": "stdout",
     "output_type": "stream",
     "text": [
      "[[255 255 255 ... 255 255 255]\n",
      " [255 255 255 ... 255 255 255]\n",
      " [255 255 255 ... 255 255 255]\n",
      " ...\n",
      " [255 255 255 ... 255 255 255]\n",
      " [255 255 255 ... 255 255 255]\n",
      " [255 255 255 ... 255 255 255]]\n"
     ]
    },
    {
     "data": {
      "text/plain": [
       "(700, 525)"
      ]
     },
     "execution_count": 13,
     "metadata": {},
     "output_type": "execute_result"
    }
   ],
   "source": [
    "print(thresh)\n",
    "thresh.shape"
   ]
  },
  {
   "cell_type": "code",
   "execution_count": 14,
   "metadata": {},
   "outputs": [
    {
     "data": {
      "text/plain": [
       "-1"
      ]
     },
     "execution_count": 14,
     "metadata": {},
     "output_type": "execute_result"
    }
   ],
   "source": [
    "cv2.imshow(\"A\",thresh)\n",
    "cv2.waitKey(0)"
   ]
  },
  {
   "cell_type": "code",
   "execution_count": 15,
   "metadata": {},
   "outputs": [
    {
     "data": {
      "text/plain": [
       "255"
      ]
     },
     "execution_count": 15,
     "metadata": {},
     "output_type": "execute_result"
    }
   ],
   "source": [
    "thresh[0,229]"
   ]
  },
  {
   "cell_type": "code",
   "execution_count": 16,
   "metadata": {},
   "outputs": [
    {
     "data": {
      "text/plain": [
       "array([  0,   0, 255], dtype=uint8)"
      ]
     },
     "execution_count": 16,
     "metadata": {},
     "output_type": "execute_result"
    }
   ],
   "source": [
    "image[0,0]"
   ]
  },
  {
   "cell_type": "code",
   "execution_count": 17,
   "metadata": {},
   "outputs": [],
   "source": [
    "for i in range(269):\n",
    "    for j in range(230):\n",
    "        if thresh[i,j] !=0:\n",
    "            thresh[i,j]=(0)\n",
    "            cv2.circle(image,(i, j), 5, (0,0,255), -1)\n",
    "            break;\n",
    "    break;\n"
   ]
  },
  {
   "cell_type": "code",
   "execution_count": 18,
   "metadata": {},
   "outputs": [
    {
     "data": {
      "text/plain": [
       "-1"
      ]
     },
     "execution_count": 18,
     "metadata": {},
     "output_type": "execute_result"
    }
   ],
   "source": [
    "cv2.imshow(\"p1\",image)\n",
    "cv2.waitKey(0)"
   ]
  },
  {
   "cell_type": "code",
   "execution_count": 19,
   "metadata": {},
   "outputs": [],
   "source": [
    "# tìm đường viền dựa trên ảnh nhị phân vừa tạo được\n",
    "cnts = cv2.findContours(thresh.copy(), cv2.RETR_EXTERNAL,cv2.CHAIN_APPROX_SIMPLE)\n",
    "cnts = imutils.grab_contours(cnts)\n",
    "#tạo danh sách đường bao tương ứng với các ô đáp án\n",
    "questionCnts = []\n",
    "# chạy vòng lặp đi qua các đường viền\n",
    "for c in cnts:\n",
    "\t# xác định các thông số của đường bao(tọa độ (x,y), chiều rộng, chiều cao)\n",
    "\t(x, y, w, h) = cv2.boundingRect(c)\n",
    "\t#tính tỉ lệ khung hình của đường bao\n",
    "\tar = w / float(h)\n",
    "\t# nếu là 1 ô đáp án nó sẽ đủ rộng,đủ cao(20px) và có tỉ lên khung hình gần bằng 1\n",
    "\tif w >= 20 and h >= 20 and ar >= 0.9 and ar <= 1.1:\n",
    "\t\tquestionCnts.append(c)"
   ]
  },
  {
   "cell_type": "code",
   "execution_count": 20,
   "metadata": {},
   "outputs": [
    {
     "data": {
      "text/plain": [
       "[]"
      ]
     },
     "execution_count": 20,
     "metadata": {},
     "output_type": "execute_result"
    }
   ],
   "source": [
    "questionCnts"
   ]
  },
  {
   "cell_type": "code",
   "execution_count": 23,
   "metadata": {},
   "outputs": [
    {
     "ename": "ValueError",
     "evalue": "not enough values to unpack (expected 2, got 0)",
     "output_type": "error",
     "traceback": [
      "\u001b[1;31m---------------------------------------------------------------------------\u001b[0m",
      "\u001b[1;31mValueError\u001b[0m                                Traceback (most recent call last)",
      "\u001b[1;32me:\\ML\\nckh\\opencv\\cham thi\\test.ipynb Cell 22\u001b[0m in \u001b[0;36m<cell line: 3>\u001b[1;34m()\u001b[0m\n\u001b[0;32m      <a href='vscode-notebook-cell:/e%3A/ML/nckh/opencv/cham%20thi/test.ipynb#ch0000021?line=0'>1</a>\u001b[0m \u001b[39m# sort the question contours top-to-bottom, then initialize\u001b[39;00m\n\u001b[0;32m      <a href='vscode-notebook-cell:/e%3A/ML/nckh/opencv/cham%20thi/test.ipynb#ch0000021?line=1'>2</a>\u001b[0m \u001b[39m# the total number of correct answers\u001b[39;00m\n\u001b[1;32m----> <a href='vscode-notebook-cell:/e%3A/ML/nckh/opencv/cham%20thi/test.ipynb#ch0000021?line=2'>3</a>\u001b[0m questionCnts \u001b[39m=\u001b[39m contours\u001b[39m.\u001b[39;49msort_contours(questionCnts,\n\u001b[0;32m      <a href='vscode-notebook-cell:/e%3A/ML/nckh/opencv/cham%20thi/test.ipynb#ch0000021?line=3'>4</a>\u001b[0m \tmethod\u001b[39m=\u001b[39;49m\u001b[39m\"\u001b[39;49m\u001b[39mtop-to-bottom\u001b[39;49m\u001b[39m\"\u001b[39;49m)[\u001b[39m0\u001b[39m]\n\u001b[0;32m      <a href='vscode-notebook-cell:/e%3A/ML/nckh/opencv/cham%20thi/test.ipynb#ch0000021?line=4'>5</a>\u001b[0m correct \u001b[39m=\u001b[39m \u001b[39m0\u001b[39m\n\u001b[0;32m      <a href='vscode-notebook-cell:/e%3A/ML/nckh/opencv/cham%20thi/test.ipynb#ch0000021?line=5'>6</a>\u001b[0m \u001b[39m# có 5 câu hỏi và mỗi câu hỏi có 5 câu trả lời\u001b[39;00m\n",
      "File \u001b[1;32mc:\\Users\\This MC\\AppData\\Local\\Programs\\Python\\Python310\\lib\\site-packages\\imutils\\contours.py:24\u001b[0m, in \u001b[0;36msort_contours\u001b[1;34m(cnts, method)\u001b[0m\n\u001b[0;32m     21\u001b[0m \u001b[39m# construct the list of bounding boxes and sort them from top to\u001b[39;00m\n\u001b[0;32m     22\u001b[0m \u001b[39m# bottom\u001b[39;00m\n\u001b[0;32m     23\u001b[0m boundingBoxes \u001b[39m=\u001b[39m [cv2\u001b[39m.\u001b[39mboundingRect(c) \u001b[39mfor\u001b[39;00m c \u001b[39min\u001b[39;00m cnts]\n\u001b[1;32m---> 24\u001b[0m (cnts, boundingBoxes) \u001b[39m=\u001b[39m \u001b[39mzip\u001b[39m(\u001b[39m*\u001b[39m\u001b[39msorted\u001b[39m(\u001b[39mzip\u001b[39m(cnts, boundingBoxes),\n\u001b[0;32m     25\u001b[0m                                     key\u001b[39m=\u001b[39m\u001b[39mlambda\u001b[39;00m b: b[\u001b[39m1\u001b[39m][i], reverse\u001b[39m=\u001b[39mreverse))\n\u001b[0;32m     27\u001b[0m \u001b[39m# return the list of sorted contours and bounding boxes\u001b[39;00m\n\u001b[0;32m     28\u001b[0m \u001b[39mreturn\u001b[39;00m cnts, boundingBoxes\n",
      "\u001b[1;31mValueError\u001b[0m: not enough values to unpack (expected 2, got 0)"
     ]
    }
   ],
   "source": [
    "# sort the question contours top-to-bottom, then initialize\n",
    "# the total number of correct answers\n",
    "questionCnts = contours.sort_contours(questionCnts,\n",
    "\tmethod=\"top-to-bottom\")[0]\n",
    "correct = 0\n",
    "# có 5 câu hỏi và mỗi câu hỏi có 5 câu trả lời\n",
    "for (q, i) in enumerate(np.arange(0, len(questionCnts), 5)):\n",
    "\t#sắp xếp các câu trả lời theo thứ tự từ trái sang phải\n",
    "\tcnts = contours.sort_contours(questionCnts[i:i + 5])[0]\n",
    "\t#khởi tạo mục câu trả lời đúng\n",
    "\tbubbled = None\n",
    "\t# tạo vòng lặp qua đường viền đã được sắp xếp\n",
    "\tfor (j, c) in enumerate(cnts):\n",
    "\t\t#tạo mặt nạ chỉ hiển thị bong bóng trả lời\n",
    "\t\tmask = np.zeros(thresh.shape, dtype=\"uint8\")\n",
    "\t\tcv2.drawContours(mask, [c], -1, 255, -1)\n",
    "\t\t#áp dụng mặt nạ cho ảnh nhị phân và đếm số pixel khác 0 trong khu vực bong bóng trả lời \n",
    "\t\tmask = cv2.bitwise_and(thresh, thresh, mask=mask)\n",
    "\t\ttotal = cv2.countNonZero(mask)\n",
    "\t\t# bong bóng có số lượng pixel khác 0 tối đa là đáp án\n",
    "\t\tif bubbled is None or total > bubbled[0]:\n",
    "\t\t\tbubbled = (total, j)\n",
    "\t# khởi tạo màu đường viền và chỉ số của Câu trả lời chính xác\n",
    "\tcolor = (0, 0, 255)\n",
    "\tk = ANSWER_KEY[q]\n",
    "\t# kiểm tra câu trả lời có nổi bọt có đúng k\n",
    "\tif k == bubbled[1]:\n",
    "\t\tcolor = (0, 255, 0)\n",
    "\t\tcorrect += 1\n",
    "\t\t# vẽ pháC thảo lên bài kiểm tra\n",
    "\tcv2.drawContours(paper, [cnts[k]], -1, color, 3)"
   ]
  },
  {
   "cell_type": "code",
   "execution_count": null,
   "metadata": {},
   "outputs": [
    {
     "name": "stdout",
     "output_type": "stream",
     "text": [
      "[INFO] score: 80.00%\n"
     ]
    },
    {
     "data": {
      "text/plain": [
       "-1"
      ]
     },
     "execution_count": 383,
     "metadata": {},
     "output_type": "execute_result"
    }
   ],
   "source": [
    "# grab the test taker\n",
    "score = (correct / 5.0) * 100\n",
    "print(\"[INFO] score: {:.2f}%\".format(score))\n",
    "cv2.putText(paper, \"{:.2f}%\".format(score), (10, 30),\n",
    "\tcv2.FONT_HERSHEY_SIMPLEX, 0.9, (0, 0, 255), 2)\n",
    "cv2.imshow(\"Original\", image)\n",
    "cv2.imshow(\"Exam\", paper)\n",
    "cv2.waitKey(0)"
   ]
  },
  {
   "cell_type": "code",
   "execution_count": null,
   "metadata": {},
   "outputs": [],
   "source": []
  }
 ],
 "metadata": {
  "kernelspec": {
   "display_name": "Python 3.10.0 64-bit",
   "language": "python",
   "name": "python3"
  },
  "language_info": {
   "codemirror_mode": {
    "name": "ipython",
    "version": 3
   },
   "file_extension": ".py",
   "mimetype": "text/x-python",
   "name": "python",
   "nbconvert_exporter": "python",
   "pygments_lexer": "ipython3",
   "version": "3.10.0"
  },
  "orig_nbformat": 4,
  "vscode": {
   "interpreter": {
    "hash": "65eb79893eca2ac237e28faed9bc50f89a456e84b8c6c4b7b6833f11e0a9dc46"
   }
  }
 },
 "nbformat": 4,
 "nbformat_minor": 2
}
