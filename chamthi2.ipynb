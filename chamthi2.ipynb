{
 "cells": [
  {
   "cell_type": "code",
   "execution_count": 18,
   "metadata": {},
   "outputs": [],
   "source": [
    "# import the necessary packages\n",
    "from imutils.perspective import four_point_transform\n",
    "from imutils import contours\n",
    "import numpy as np\n",
    "import argparse\n",
    "import imutils\n",
    "import cv2\n",
    "# construct the argument parse and parse the arguments\n",
    "# ap = argparse.ArgumentParser()\n",
    "# ap.add_argument(\"-i\", \"--image\", required=True,\n",
    "# \thelp=\"path to the input image\")\n",
    "# args = vars(ap.parse_args())\n",
    "# define the answer key which maps the question number\n",
    "# to the correct answer\n",
    "ANSWER_KEY = {0: 1, 1: 4, 2: 0, 3: 3, 4: 1, 5: 3, 6: 2, 7: 3}"
   ]
  },
  {
   "cell_type": "code",
   "execution_count": 19,
   "metadata": {},
   "outputs": [],
   "source": [
    "# load the image, convert it to grayscale, blur it\n",
    "# slightly, then find edges\n",
    "image = cv2.imread(\"test2.png\")\n",
    "gray = cv2.cvtColor(image, cv2.COLOR_BGR2GRAY)\n",
    "blurred = cv2.GaussianBlur(gray, (5, 5), 0)\n",
    "edged = cv2.Canny(blurred, 75, 200)"
   ]
  },
  {
   "cell_type": "code",
   "execution_count": 20,
   "metadata": {},
   "outputs": [
    {
     "data": {
      "text/plain": [
       "-1"
      ]
     },
     "execution_count": 20,
     "metadata": {},
     "output_type": "execute_result"
    }
   ],
   "source": [
    "cv2.imshow(\"a\",edged)\n",
    "cv2.waitKey(0)"
   ]
  },
  {
   "cell_type": "code",
   "execution_count": 21,
   "metadata": {},
   "outputs": [],
   "source": [
    "# find contours in the edge map, then initialize\n",
    "# the contour that corresponds to the document\n",
    "cnts = cv2.findContours(edged.copy(), cv2.RETR_EXTERNAL,\n",
    "\tcv2.CHAIN_APPROX_SIMPLE)\n",
    "cnts = imutils.grab_contours(cnts)\n",
    "docCnt = None\n",
    "# ensure that at least one contour was found\n",
    "if len(cnts) > 0:\n",
    "\t# sort the contours according to their size in\n",
    "\t# descending order\n",
    "\tcnts = sorted(cnts, key=cv2.contourArea, reverse=True)\n",
    "\t# loop over the sorted contours\n",
    "\tfor c in cnts:\n",
    "\t\t# approximate the contour\n",
    "\t\tperi = cv2.arcLength(c, True)\n",
    "\t\tapprox = cv2.approxPolyDP(c, 0.02 * peri, True)\n",
    "\t\t# if our approximated contour has four points,\n",
    "\t\t# then we can assume we have found the paper\n",
    "\t\tif len(approx) == 4:\n",
    "\t\t\tdocCnt = approx\n",
    "\t\t\tbreak"
   ]
  },
  {
   "cell_type": "code",
   "execution_count": 22,
   "metadata": {},
   "outputs": [
    {
     "name": "stdout",
     "output_type": "stream",
     "text": [
      "[[[ 63  31]]\n",
      "\n",
      " [[ 62 514]]\n",
      "\n",
      " [[307 514]]\n",
      "\n",
      " [[306  32]]]\n"
     ]
    }
   ],
   "source": [
    "print(docCnt)"
   ]
  },
  {
   "cell_type": "code",
   "execution_count": 23,
   "metadata": {},
   "outputs": [],
   "source": [
    "# apply a four point perspective transform to both the\n",
    "# original image and grayscale image to obtain a top-down\n",
    "# birds eye view of the paper\n",
    "paper = four_point_transform(image, docCnt.reshape(4, 2))\n",
    "warped = four_point_transform(gray, docCnt.reshape(4, 2))"
   ]
  },
  {
   "cell_type": "code",
   "execution_count": 24,
   "metadata": {},
   "outputs": [
    {
     "data": {
      "text/plain": [
       "-1"
      ]
     },
     "execution_count": 24,
     "metadata": {},
     "output_type": "execute_result"
    }
   ],
   "source": [
    "cv2.imshow(\"a\",warped)\n",
    "cv2.waitKey(0)"
   ]
  },
  {
   "cell_type": "code",
   "execution_count": 25,
   "metadata": {},
   "outputs": [],
   "source": [
    "# apply Otsu's thresholding method to binarize the warped\n",
    "# piece of paper\n",
    "thresh1 = cv2.threshold(warped, 0, 255,\n",
    "\tcv2.THRESH_BINARY_INV | cv2.THRESH_OTSU)[1]"
   ]
  },
  {
   "cell_type": "code",
   "execution_count": 26,
   "metadata": {},
   "outputs": [
    {
     "data": {
      "text/plain": [
       "-1"
      ]
     },
     "execution_count": 26,
     "metadata": {},
     "output_type": "execute_result"
    }
   ],
   "source": [
    "cv2.imshow(\"a\",thresh1)\n",
    "cv2.waitKey(0)"
   ]
  },
  {
   "cell_type": "code",
   "execution_count": 27,
   "metadata": {},
   "outputs": [],
   "source": [
    "# load the image, convert it to grayscale, blur it\n",
    "# slightly, then find edges\n",
    "image_mark = cv2.imread(\"test2 - Copy.png\")\n",
    "gray_mark = cv2.cvtColor(image_mark, cv2.COLOR_BGR2GRAY)\n",
    "blurred_mark = cv2.GaussianBlur(gray_mark, (5, 5), 0)\n",
    "edged_mark = cv2.Canny(blurred_mark, 75, 200)"
   ]
  },
  {
   "cell_type": "code",
   "execution_count": 28,
   "metadata": {},
   "outputs": [
    {
     "data": {
      "text/plain": [
       "-1"
      ]
     },
     "execution_count": 28,
     "metadata": {},
     "output_type": "execute_result"
    }
   ],
   "source": [
    "cv2.imshow(\"a\",edged_mark)\n",
    "cv2.waitKey(0)"
   ]
  },
  {
   "cell_type": "code",
   "execution_count": 29,
   "metadata": {},
   "outputs": [],
   "source": [
    "# find contours in the edge map, then initialize\n",
    "# the contour that corresponds to the document\n",
    "cnts_mark = cv2.findContours(edged_mark.copy(), cv2.RETR_EXTERNAL,\n",
    "\tcv2.CHAIN_APPROX_SIMPLE)\n",
    "cnts_mark = imutils.grab_contours(cnts_mark)\n",
    "docCnt_mark = None\n",
    "# ensure that at least one contour was found\n",
    "if len(cnts_mark) > 0:\n",
    "\t# sort the contours according to their size in\n",
    "\t# descending order\n",
    "\tcnts_mark = sorted(cnts_mark, key=cv2.contourArea, reverse=True)\n",
    "\t# loop over the sorted contours\n",
    "\tfor c in cnts_mark:\n",
    "\t\t# approximate the contour\n",
    "\t\tperi = cv2.arcLength(c, True)\n",
    "\t\tapprox = cv2.approxPolyDP(c, 0.02 * peri, True)\n",
    "\t\t# if our approximated contour has four points,\n",
    "\t\t# then we can assume we have found the paper\n",
    "\t\tif len(approx) == 4:\n",
    "\t\t\tdocCnt_mark = approx\n",
    "\t\t\tbreak"
   ]
  },
  {
   "cell_type": "code",
   "execution_count": 30,
   "metadata": {},
   "outputs": [],
   "source": [
    "# apply a four point perspective transform to both the\n",
    "# original image and grayscale image to obtain a top-down\n",
    "# birds eye view of the paper\n",
    "paper_mark = four_point_transform(image_mark, docCnt_mark.reshape(4, 2))\n",
    "warped_mark = four_point_transform(gray_mark, docCnt_mark.reshape(4, 2))"
   ]
  },
  {
   "cell_type": "code",
   "execution_count": 31,
   "metadata": {},
   "outputs": [],
   "source": [
    "# apply Otsu's thresholding method to binarize the warped\n",
    "# piece of paper\n",
    "thresh_mark = cv2.threshold(warped_mark, 0, 255,\n",
    "\tcv2.THRESH_BINARY_INV | cv2.THRESH_OTSU)[1]"
   ]
  },
  {
   "cell_type": "code",
   "execution_count": 32,
   "metadata": {},
   "outputs": [
    {
     "data": {
      "text/plain": [
       "-1"
      ]
     },
     "execution_count": 32,
     "metadata": {},
     "output_type": "execute_result"
    }
   ],
   "source": [
    "cv2.imshow(\"a\",thresh_mark)\n",
    "cv2.waitKey(0)"
   ]
  },
  {
   "cell_type": "code",
   "execution_count": 35,
   "metadata": {},
   "outputs": [
    {
     "data": {
      "text/plain": [
       "-1"
      ]
     },
     "execution_count": 35,
     "metadata": {},
     "output_type": "execute_result"
    }
   ],
   "source": [
    "diff = cv2.absdiff(warped, warped_mark)\n",
    "cv2.imshow(\"a\",diff)\n",
    "cv2.waitKey(0)"
   ]
  },
  {
   "cell_type": "code",
   "execution_count": 40,
   "metadata": {},
   "outputs": [
    {
     "data": {
      "text/plain": [
       "-1"
      ]
     },
     "execution_count": 40,
     "metadata": {},
     "output_type": "execute_result"
    }
   ],
   "source": [
    "thresh = cv2.threshold(diff, 0, 255,\n",
    "cv2.THRESH_BINARY_INV | cv2.THRESH_OTSU)[1]\n",
    "cv2.imshow(\"a\",thresh)\n",
    "cv2.waitKey(0)"
   ]
  },
  {
   "cell_type": "code",
   "execution_count": 41,
   "metadata": {},
   "outputs": [
    {
     "data": {
      "text/plain": [
       "-1"
      ]
     },
     "execution_count": 41,
     "metadata": {},
     "output_type": "execute_result"
    }
   ],
   "source": [
    "thresh = cv2.bitwise_not(thresh)\n",
    "cv2.imshow(\"a\",thresh)\n",
    "cv2.waitKey(0)"
   ]
  },
  {
   "cell_type": "code",
   "execution_count": 42,
   "metadata": {},
   "outputs": [],
   "source": [
    "# find contours in the thresholded image, then initialize\n",
    "# the list of contours that correspond to questions\n",
    "cnts = cv2.findContours(thresh.copy(), cv2.RETR_EXTERNAL,\n",
    "\tcv2.CHAIN_APPROX_SIMPLE)\n",
    "cnts = imutils.grab_contours(cnts)\n",
    "questionCnts = []\n",
    "# loop over the contours\n",
    "for c in cnts:\n",
    "\t# compute the bounding box of the contour, then use the\n",
    "\t# bounding box to derive the aspect ratio\n",
    "\t(x, y, w, h) = cv2.boundingRect(c)\n",
    "\tar = w / float(h)\n",
    "\t# in order to label the contour as a question, region\n",
    "\t# should be sufficiently wide, sufficiently tall, and\n",
    "\t# have an aspect ratio approximately equal to 1\n",
    "\tif w >= 20 and h >= 20 and ar >= 0.9 and ar <= 1.1:\n",
    "\t\tquestionCnts.append(c)"
   ]
  },
  {
   "cell_type": "code",
   "execution_count": 43,
   "metadata": {},
   "outputs": [
    {
     "data": {
      "text/plain": [
       "array([[[196, 196, 196],\n",
       "        [171, 171, 171],\n",
       "        [163, 163, 163],\n",
       "        ...,\n",
       "        [ 46,  46,  46],\n",
       "        [ 81,  81,  81],\n",
       "        [136, 136, 136]],\n",
       "\n",
       "       [[112, 112, 112],\n",
       "        [ 48,  48,  48],\n",
       "        [ 35,  35,  35],\n",
       "        ...,\n",
       "        [  1,   1,   1],\n",
       "        [ 13,  13,  13],\n",
       "        [ 78,  78,  78]],\n",
       "\n",
       "       [[ 58,  58,  58],\n",
       "        [  0,   0,   0],\n",
       "        [ 13,  13,  13],\n",
       "        ...,\n",
       "        [ 44,  44,  44],\n",
       "        [ 16,  16,  16],\n",
       "        [ 59,  59,  59]],\n",
       "\n",
       "       ...,\n",
       "\n",
       "       [[166, 166, 166],\n",
       "        [ 60,  60,  60],\n",
       "        [ 55,  55,  55],\n",
       "        ...,\n",
       "        [ 27,  27,  27],\n",
       "        [ 67,  67,  67],\n",
       "        [159, 159, 159]],\n",
       "\n",
       "       [[169, 169, 169],\n",
       "        [ 57,  57,  57],\n",
       "        [ 19,  19,  19],\n",
       "        ...,\n",
       "        [ 15,  15,  15],\n",
       "        [ 68,  68,  68],\n",
       "        [163, 163, 163]],\n",
       "\n",
       "       [[168, 168, 168],\n",
       "        [ 59,  59,  59],\n",
       "        [  0,   0,   0],\n",
       "        ...,\n",
       "        [ 15,  15,  15],\n",
       "        [ 75,  75,  75],\n",
       "        [169, 169, 169]]], dtype=uint8)"
      ]
     },
     "execution_count": 43,
     "metadata": {},
     "output_type": "execute_result"
    }
   ],
   "source": [
    "# sort the question contours top-to-bottom, then initialize\n",
    "# the total number of correct answers\n",
    "questionCnts = contours.sort_contours(questionCnts,\n",
    "\tmethod=\"top-to-bottom\")[0]\n",
    "correct = 0\n",
    "# each question has 5 possible answers, to loop over the\n",
    "# question in batches of 5\n",
    "for (q, i) in enumerate(np.arange(0, len(questionCnts), 6)):\n",
    "\t# sort the contours for the current question from\n",
    "\t# left to right, then initialize the index of the\n",
    "\t# bubbled answer\n",
    "\tcnts = contours.sort_contours(questionCnts[i:i + 6])[0]\n",
    "\tbubbled = None\n",
    "\t# loop over the sorted contours\n",
    "\tfor (j, c) in enumerate(cnts):\n",
    "\t\t# construct a mask that reveals only the current\n",
    "\t\t# \"bubble\" for the question\n",
    "\t\tmask = np.zeros(thresh.shape, dtype=\"uint8\")\n",
    "\t\tcv2.drawContours(mask, [c], -1, 255, -1)\n",
    "\t\t# apply the mask to the thresholded image, then\n",
    "\t\t# count the number of non-zero pixels in the\n",
    "\t\t# bubble area\n",
    "\t\tmask = cv2.bitwise_and(thresh, thresh, mask=mask)\n",
    "\t\ttotal = cv2.countNonZero(mask)\n",
    "\t\t# if the current total has a larger number of total\n",
    "\t\t# non-zero pixels, then we are examining the currently\n",
    "\t\t# bubbled-in answer\n",
    "\t\tif bubbled is None or total > bubbled[0]:\n",
    "\t\t\tbubbled = (total, j)\n",
    "# initialize the contour color and the index of the\n",
    "# *correct* answer\n",
    "color = (0, 0, 255)\n",
    "k = ANSWER_KEY[q]\n",
    "# check to see if the bubbled answer is correct\n",
    "if k == bubbled[1]:\n",
    "\tcolor = (0, 255, 0)\n",
    "\tcorrect += 1\n",
    "# draw the outline of the correct answer on the test\n",
    "cv2.drawContours(paper, [cnts[k]], -1, color, 3)"
   ]
  },
  {
   "cell_type": "code",
   "execution_count": null,
   "metadata": {},
   "outputs": [],
   "source": [
    "# grab the test taker\n",
    "score = (correct / 7.0) * 100\n",
    "print(\"[INFO] score: {:.2f}%\".format(score))\n",
    "cv2.putText(paper, \"{:.2f}%\".format(score), (10, 30),\n",
    "\tcv2.FONT_HERSHEY_SIMPLEX, 0.9, (0, 0, 255), 2)\n",
    "cv2.imshow(\"Original\", image)\n",
    "cv2.imshow(\"Exam\", paper)\n",
    "cv2.waitKey(0)"
   ]
  }
 ],
 "metadata": {
  "kernelspec": {
   "display_name": "Python 3.10.0 64-bit",
   "language": "python",
   "name": "python3"
  },
  "language_info": {
   "codemirror_mode": {
    "name": "ipython",
    "version": 3
   },
   "file_extension": ".py",
   "mimetype": "text/x-python",
   "name": "python",
   "nbconvert_exporter": "python",
   "pygments_lexer": "ipython3",
   "version": "3.10.0"
  },
  "orig_nbformat": 4,
  "vscode": {
   "interpreter": {
    "hash": "65eb79893eca2ac237e28faed9bc50f89a456e84b8c6c4b7b6833f11e0a9dc46"
   }
  }
 },
 "nbformat": 4,
 "nbformat_minor": 2
}
