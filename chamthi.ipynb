{
 "cells": [
  {
   "cell_type": "code",
   "execution_count": 33,
   "metadata": {},
   "outputs": [],
   "source": [
    "# import the necessary packages\n",
    "from imutils.perspective import four_point_transform\n",
    "from imutils import contours\n",
    "import numpy as np\n",
    "import argparse\n",
    "import imutils\n",
    "import cv2\n",
    "\n",
    "# define the answer key which maps the question number\n",
    "# to the correct answer\n",
    "ANSWER_KEY = {0: 1, 1: 4, 2: 0, 3: 3, 4: 1}"
   ]
  },
  {
   "cell_type": "code",
   "execution_count": 34,
   "metadata": {},
   "outputs": [],
   "source": [
    "# load the image, convert it to grayscale, blur it\n",
    "# slightly, then find edges\n",
    "image = cv2.imread(\"test.png\")\n",
    "gray = cv2.cvtColor(image, cv2.COLOR_BGR2GRAY)\n",
    "blurred = cv2.GaussianBlur(gray, (5, 5), 0)\n",
    "edged = cv2.Canny(blurred, 75, 200)"
   ]
  },
  {
   "cell_type": "code",
   "execution_count": 35,
   "metadata": {},
   "outputs": [],
   "source": [
    "# find contours in the edge map, then initialize\n",
    "# the contour that corresponds to the document\n",
    "cnts = cv2.findContours(edged.copy(), cv2.RETR_EXTERNAL,\n",
    "\tcv2.CHAIN_APPROX_SIMPLE)\n",
    "cnts = imutils.grab_contours(cnts)\n",
    "docCnt = None\n",
    "# ensure that at least one contour was found\n",
    "if len(cnts) > 0:\n",
    "\t# sort the contours according to their size in\n",
    "\t# descending order\n",
    "\tcnts = sorted(cnts, key=cv2.contourArea, reverse=True)\n",
    "\t# loop over the sorted contours\n",
    "\tfor c in cnts:\n",
    "\t\t# approximate the contour\n",
    "\t\tperi = cv2.arcLength(c, True)\n",
    "\t\tapprox = cv2.approxPolyDP(c, 0.02 * peri, True)\n",
    "\t\t# if our approximated contour has four points,\n",
    "\t\t# then we can assume we have found the paper\n",
    "\t\tif len(approx) == 4:\n",
    "\t\t\tdocCnt = approx\n",
    "\t\t\tbreak"
   ]
  },
  {
   "cell_type": "code",
   "execution_count": 36,
   "metadata": {},
   "outputs": [],
   "source": [
    "# apply a four point perspective transform to both the\n",
    "# original image and grayscale image to obtain a top-down\n",
    "# birds eye view of the paper\n",
    "paper = four_point_transform(image, docCnt.reshape(4, 2))\n",
    "warped = four_point_transform(gray, docCnt.reshape(4, 2))"
   ]
  },
  {
   "cell_type": "code",
   "execution_count": 37,
   "metadata": {},
   "outputs": [],
   "source": [
    "# apply Otsu's thresholding method to binarize the warped\n",
    "# piece of paper\n",
    "thresh = cv2.threshold(warped, 0, 255,\n",
    "\tcv2.THRESH_BINARY_INV | cv2.THRESH_OTSU)[1]"
   ]
  },
  {
   "cell_type": "code",
   "execution_count": 38,
   "metadata": {},
   "outputs": [],
   "source": [
    "# find contours in the thresholded image, then initialize\n",
    "# the list of contours that correspond to questions\n",
    "cnts = cv2.findContours(thresh.copy(), cv2.RETR_EXTERNAL,\n",
    "\tcv2.CHAIN_APPROX_SIMPLE)\n",
    "cnts = imutils.grab_contours(cnts)\n",
    "questionCnts = []\n",
    "# loop over the contours\n",
    "for c in cnts:\n",
    "\t# compute the bounding box of the contour, then use the\n",
    "\t# bounding box to derive the aspect ratio\n",
    "\t(x, y, w, h) = cv2.boundingRect(c)\n",
    "\tar = w / float(h)\n",
    "\t# in order to label the contour as a question, region\n",
    "\t# should be sufficiently wide, sufficiently tall, and\n",
    "\t# have an aspect ratio approximately equal to 1\n",
    "\tif w >= 20 and h >= 20 and ar >= 0.9 and ar <= 1.1:\n",
    "\t\tquestionCnts.append(c)"
   ]
  },
  {
   "cell_type": "code",
   "execution_count": 40,
   "metadata": {},
   "outputs": [
    {
     "data": {
      "text/plain": [
       "array([[[151, 167, 172],\n",
       "        [245, 248, 248],\n",
       "        [232, 235, 234],\n",
       "        ...,\n",
       "        [151, 167, 172],\n",
       "        [149, 164, 169],\n",
       "        [131, 140, 141]],\n",
       "\n",
       "       [[130, 139, 141],\n",
       "        [229, 234, 232],\n",
       "        [225, 229, 228],\n",
       "        ...,\n",
       "        [239, 242, 243],\n",
       "        [241, 245, 245],\n",
       "        [234, 238, 238]],\n",
       "\n",
       "       [[106, 114, 116],\n",
       "        [216, 220, 219],\n",
       "        [209, 216, 218],\n",
       "        ...,\n",
       "        [244, 247, 246],\n",
       "        [251, 253, 253],\n",
       "        [234, 238, 239]],\n",
       "\n",
       "       ...,\n",
       "\n",
       "       [[153, 169, 174],\n",
       "        [186, 199, 202],\n",
       "        [165, 184, 192],\n",
       "        ...,\n",
       "        [251, 253, 253],\n",
       "        [251, 253, 253],\n",
       "        [190, 202, 206]],\n",
       "\n",
       "       [[165, 183, 191],\n",
       "        [204, 213, 214],\n",
       "        [185, 198, 202],\n",
       "        ...,\n",
       "        [251, 253, 253],\n",
       "        [251, 253, 253],\n",
       "        [227, 231, 230]],\n",
       "\n",
       "       [[106, 114, 116],\n",
       "        [131, 140, 141],\n",
       "        [133, 142, 143],\n",
       "        ...,\n",
       "        [195, 205, 208],\n",
       "        [188, 200, 203],\n",
       "        [165, 184, 192]]], dtype=uint8)"
      ]
     },
     "execution_count": 40,
     "metadata": {},
     "output_type": "execute_result"
    }
   ],
   "source": [
    "# sort the question contours top-to-bottom, then initialize\n",
    "# the total number of correct answers\n",
    "questionCnts = contours.sort_contours(questionCnts,\n",
    "\tmethod=\"top-to-bottom\")[0]\n",
    "correct = 0\n",
    "# each question has 5 possible answers, to loop over the\n",
    "# question in batches of 5\n",
    "for (q, i) in enumerate(np.arange(0, len(questionCnts), 5)):\n",
    "\t# sort the contours for the current question from\n",
    "\t# left to right, then initialize the index of the\n",
    "\t# bubbled answer\n",
    "\tcnts = contours.sort_contours(questionCnts[i:i + 5])[0]\n",
    "\tbubbled = None\n",
    "\t# loop over the sorted contours\n",
    "\tfor (j, c) in enumerate(cnts):\n",
    "\t\t# construct a mask that reveals only the current\n",
    "\t\t# \"bubble\" for the question\n",
    "\t\tmask = np.zeros(thresh.shape, dtype=\"uint8\")\n",
    "\t\tcv2.drawContours(mask, [c], -1, 255, -1)\n",
    "\t\t# apply the mask to the thresholded image, then\n",
    "\t\t# count the number of non-zero pixels in the\n",
    "\t\t# bubble area\n",
    "\t\tmask = cv2.bitwise_and(thresh, thresh, mask=mask)\n",
    "\t\ttotal = cv2.countNonZero(mask)\n",
    "\t\t# if the current total has a larger number of total\n",
    "\t\t# non-zero pixels, then we are examining the currently\n",
    "\t\t# bubbled-in answer\n",
    "\t\tif bubbled is None or total > bubbled[0]:\n",
    "\t\t\tbubbled = (total, j)\n",
    "# initialize the contour color and the index of the\n",
    "# *correct* answer\n",
    "color = (0, 0, 255)\n",
    "k = ANSWER_KEY[q]\n",
    "# check to see if the bubbled answer is correct\n",
    "if k == bubbled[1]:\n",
    "\tcolor = (0, 255, 0)\n",
    "\tcorrect += 1\n",
    "# draw the outline of the correct answer on the test\n",
    "cv2.drawContours(paper, [cnts[k]], -1, color, 3)"
   ]
  },
  {
   "cell_type": "code",
   "execution_count": 41,
   "metadata": {},
   "outputs": [
    {
     "name": "stdout",
     "output_type": "stream",
     "text": [
      "[INFO] score: 20.00%\n"
     ]
    },
    {
     "data": {
      "text/plain": [
       "-1"
      ]
     },
     "execution_count": 41,
     "metadata": {},
     "output_type": "execute_result"
    }
   ],
   "source": [
    "# grab the test taker\n",
    "score = (correct / 5.0) * 100\n",
    "print(\"[INFO] score: {:.2f}%\".format(score))\n",
    "cv2.putText(paper, \"{:.2f}%\".format(score), (10, 30),\n",
    "\tcv2.FONT_HERSHEY_SIMPLEX, 0.9, (0, 0, 255), 2)\n",
    "cv2.imshow(\"Original\", image)\n",
    "cv2.imshow(\"Exam\", paper)\n",
    "cv2.waitKey(0)"
   ]
  }
 ],
 "metadata": {
  "kernelspec": {
   "display_name": "Python 3.10.0 64-bit",
   "language": "python",
   "name": "python3"
  },
  "language_info": {
   "codemirror_mode": {
    "name": "ipython",
    "version": 3
   },
   "file_extension": ".py",
   "mimetype": "text/x-python",
   "name": "python",
   "nbconvert_exporter": "python",
   "pygments_lexer": "ipython3",
   "version": "3.10.0"
  },
  "orig_nbformat": 4,
  "vscode": {
   "interpreter": {
    "hash": "65eb79893eca2ac237e28faed9bc50f89a456e84b8c6c4b7b6833f11e0a9dc46"
   }
  }
 },
 "nbformat": 4,
 "nbformat_minor": 2
}
